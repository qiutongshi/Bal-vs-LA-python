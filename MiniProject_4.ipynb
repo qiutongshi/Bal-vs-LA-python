{
  "nbformat": 4,
  "nbformat_minor": 0,
  "metadata": {
    "colab": {
      "name": "MiniProject#4.ipynb",
      "provenance": [],
      "authorship_tag": "ABX9TyOPCRz/qoQUicZO+0EwRuxX",
      "include_colab_link": true
    },
    "kernelspec": {
      "name": "python3",
      "display_name": "Python 3"
    }
  },
  "cells": [
    {
      "cell_type": "markdown",
      "metadata": {
        "id": "view-in-github",
        "colab_type": "text"
      },
      "source": [
        "<a href=\"https://colab.research.google.com/github/qiutongshi/Bal-vs-LA-python/blob/main/MiniProject_4.ipynb\" target=\"_parent\"><img src=\"https://colab.research.google.com/assets/colab-badge.svg\" alt=\"Open In Colab\"/></a>"
      ]
    },
    {
      "cell_type": "code",
      "metadata": {
        "id": "qlaaShYDbCcH"
      },
      "source": [
        "import pandas as pd\n",
        "import statistics as sta\n",
        "import numpy as np\n",
        "import matplotlib.pyplot as plt\n",
        "from scipy.stats import norm\n",
        "from scipy.stats import skew\n",
        "\n",
        "df1 = pd.read_csv('https://raw.githubusercontent.com/qiutongshi/Bal-vs-LA-python/main/Baltimore.csv')\n",
        "df2 = pd.read_csv('https://raw.githubusercontent.com/qiutongshi/Bal-vs-LA-python/main/LosAngeles.csv')"
      ],
      "execution_count": 108,
      "outputs": []
    },
    {
      "cell_type": "code",
      "metadata": {
        "colab": {
          "base_uri": "https://localhost:8080/",
          "height": 669
        },
        "id": "kMDzNgbtNPS8",
        "outputId": "036964bc-3c8d-4c18-d194-0e3e83c61da2"
      },
      "source": [
        "df1.head(10)\n",
        "df2.head(10)\n",
        "\n",
        "df1.tail(20)\n",
        "df2.tail(20)"
      ],
      "execution_count": 131,
      "outputs": [
        {
          "output_type": "execute_result",
          "data": {
            "text/html": [
              "<div>\n",
              "<style scoped>\n",
              "    .dataframe tbody tr th:only-of-type {\n",
              "        vertical-align: middle;\n",
              "    }\n",
              "\n",
              "    .dataframe tbody tr th {\n",
              "        vertical-align: top;\n",
              "    }\n",
              "\n",
              "    .dataframe thead th {\n",
              "        text-align: right;\n",
              "    }\n",
              "</style>\n",
              "<table border=\"1\" class=\"dataframe\">\n",
              "  <thead>\n",
              "    <tr style=\"text-align: right;\">\n",
              "      <th></th>\n",
              "      <th>tract</th>\n",
              "      <th>Name</th>\n",
              "      <th>Individual_Income_Excluding_Spouse_rP_gP_p25</th>\n",
              "    </tr>\n",
              "  </thead>\n",
              "  <tbody>\n",
              "    <tr>\n",
              "      <th>1028</th>\n",
              "      <td>6037234902</td>\n",
              "      <td>Park Mesa Heights, Los Angeles, CA</td>\n",
              "      <td>17864.0</td>\n",
              "    </tr>\n",
              "    <tr>\n",
              "      <th>1029</th>\n",
              "      <td>6037273502</td>\n",
              "      <td>Venice, Los Angeles, CA</td>\n",
              "      <td>17565.0</td>\n",
              "    </tr>\n",
              "    <tr>\n",
              "      <th>1030</th>\n",
              "      <td>6037206300</td>\n",
              "      <td>Central LA, Los Angeles, CA</td>\n",
              "      <td>17166.0</td>\n",
              "    </tr>\n",
              "    <tr>\n",
              "      <th>1031</th>\n",
              "      <td>6037236204</td>\n",
              "      <td>Baldwin Village, Los Angeles, CA</td>\n",
              "      <td>17010.0</td>\n",
              "    </tr>\n",
              "    <tr>\n",
              "      <th>1032</th>\n",
              "      <td>6037207710</td>\n",
              "      <td>Central LA, Los Angeles, CA</td>\n",
              "      <td>16149.0</td>\n",
              "    </tr>\n",
              "    <tr>\n",
              "      <th>1033</th>\n",
              "      <td>6037462600</td>\n",
              "      <td>Pasadena, CA</td>\n",
              "      <td>15844.0</td>\n",
              "    </tr>\n",
              "    <tr>\n",
              "      <th>1034</th>\n",
              "      <td>6037207502</td>\n",
              "      <td>Downtown, Los Angeles, CA</td>\n",
              "      <td>13626.0</td>\n",
              "    </tr>\n",
              "    <tr>\n",
              "      <th>1035</th>\n",
              "      <td>6037463800</td>\n",
              "      <td>Northeast Los Angeles, Pasadena, CA</td>\n",
              "      <td>13116.0</td>\n",
              "    </tr>\n",
              "    <tr>\n",
              "      <th>1036</th>\n",
              "      <td>6037980030</td>\n",
              "      <td>El Segundo, CA</td>\n",
              "      <td>NaN</td>\n",
              "    </tr>\n",
              "    <tr>\n",
              "      <th>1037</th>\n",
              "      <td>6037265301</td>\n",
              "      <td>Westwood, Los Angeles, CA</td>\n",
              "      <td>NaN</td>\n",
              "    </tr>\n",
              "    <tr>\n",
              "      <th>1038</th>\n",
              "      <td>6037980013</td>\n",
              "      <td>El Segundo, CA</td>\n",
              "      <td>NaN</td>\n",
              "    </tr>\n",
              "    <tr>\n",
              "      <th>1039</th>\n",
              "      <td>6037207400</td>\n",
              "      <td>Central LA, Los Angeles, CA</td>\n",
              "      <td>NaN</td>\n",
              "    </tr>\n",
              "    <tr>\n",
              "      <th>1040</th>\n",
              "      <td>6037551600</td>\n",
              "      <td>Downey, CA</td>\n",
              "      <td>NaN</td>\n",
              "    </tr>\n",
              "    <tr>\n",
              "      <th>1041</th>\n",
              "      <td>6037206020</td>\n",
              "      <td>Central LA, Los Angeles, CA</td>\n",
              "      <td>NaN</td>\n",
              "    </tr>\n",
              "    <tr>\n",
              "      <th>1042</th>\n",
              "      <td>6037980028</td>\n",
              "      <td>Los Angeles, CA</td>\n",
              "      <td>NaN</td>\n",
              "    </tr>\n",
              "    <tr>\n",
              "      <th>1043</th>\n",
              "      <td>6037265304</td>\n",
              "      <td>Westwood, Los Angeles, CA</td>\n",
              "      <td>NaN</td>\n",
              "    </tr>\n",
              "    <tr>\n",
              "      <th>1044</th>\n",
              "      <td>6037222700</td>\n",
              "      <td>South Los Angeles, Los Angeles, CA</td>\n",
              "      <td>NaN</td>\n",
              "    </tr>\n",
              "    <tr>\n",
              "      <th>1045</th>\n",
              "      <td>6037980024</td>\n",
              "      <td>Encino, Los Angeles, CA</td>\n",
              "      <td>NaN</td>\n",
              "    </tr>\n",
              "    <tr>\n",
              "      <th>1046</th>\n",
              "      <td>6037320000</td>\n",
              "      <td>North Hollywood, Universal City, CA</td>\n",
              "      <td>NaN</td>\n",
              "    </tr>\n",
              "    <tr>\n",
              "      <th>1047</th>\n",
              "      <td>6037980009</td>\n",
              "      <td>Los Angeles, CA</td>\n",
              "      <td>NaN</td>\n",
              "    </tr>\n",
              "  </tbody>\n",
              "</table>\n",
              "</div>"
            ],
            "text/plain": [
              "           tract  ... Individual_Income_Excluding_Spouse_rP_gP_p25\n",
              "1028  6037234902  ...                                      17864.0\n",
              "1029  6037273502  ...                                      17565.0\n",
              "1030  6037206300  ...                                      17166.0\n",
              "1031  6037236204  ...                                      17010.0\n",
              "1032  6037207710  ...                                      16149.0\n",
              "1033  6037462600  ...                                      15844.0\n",
              "1034  6037207502  ...                                      13626.0\n",
              "1035  6037463800  ...                                      13116.0\n",
              "1036  6037980030  ...                                          NaN\n",
              "1037  6037265301  ...                                          NaN\n",
              "1038  6037980013  ...                                          NaN\n",
              "1039  6037207400  ...                                          NaN\n",
              "1040  6037551600  ...                                          NaN\n",
              "1041  6037206020  ...                                          NaN\n",
              "1042  6037980028  ...                                          NaN\n",
              "1043  6037265304  ...                                          NaN\n",
              "1044  6037222700  ...                                          NaN\n",
              "1045  6037980024  ...                                          NaN\n",
              "1046  6037320000  ...                                          NaN\n",
              "1047  6037980009  ...                                          NaN\n",
              "\n",
              "[20 rows x 3 columns]"
            ]
          },
          "metadata": {
            "tags": []
          },
          "execution_count": 131
        }
      ]
    },
    {
      "cell_type": "code",
      "metadata": {
        "id": "97BZSHC2jEJy"
      },
      "source": [
        "bmore_income = df1['Individual_Income_Excluding_Spouse_rP_gP_p25']\n",
        "bmore_income = bmore_income[: len(bmore_income) - 6] \n",
        "la_income = df2['Individual_Income_Excluding_Spouse_rP_gP_p25']\n",
        "la_income = la_income[: len(la_income) - 12] \n",
        "\n",
        "bmore_median = sta.median(bmore_income)\n",
        "la_median = sta.median(la_income)\n",
        "\n",
        "bmore_mean = sta.mean(bmore_income)\n",
        "la_mean = sta.mean(la_income)\n",
        "\n",
        "bmore_std = sta.stdev(bmore_income)\n",
        "la_std = sta.stdev(la_income)\n",
        "\n",
        "bmore_outliers= detect_outlier(bmore_income)\n",
        "la_outliers = detect_outlier(la_income)"
      ],
      "execution_count": 132,
      "outputs": []
    },
    {
      "cell_type": "code",
      "metadata": {
        "id": "POgwb8sNlymV"
      },
      "source": [
        "bmore_otpct = len(bmore_outliers) / len(bmore_income)\n",
        "la_otpct = len(la_outliers) / len(la_income)"
      ],
      "execution_count": 133,
      "outputs": []
    },
    {
      "cell_type": "code",
      "metadata": {
        "colab": {
          "base_uri": "https://localhost:8080/",
          "height": 295
        },
        "id": "x2tNxi1Cx8oT",
        "outputId": "ee8e253c-3f95-497b-a109-8f6f29a1fecc"
      },
      "source": [
        "plt.hist(bmore_income, color = 'red', edgecolor = 'black')\n",
        "plt.title('Baltimore Inome Distribution')\n",
        "plt.xlabel('income')\n",
        "plt.ylabel('count of income')\n",
        "\n",
        "bmore_fit = norm.pdf(bmore_income, bmore_mean, bmore_std)\n",
        "bmore_skew = skew(bmore_fit)"
      ],
      "execution_count": 134,
      "outputs": [
        {
          "output_type": "display_data",
          "data": {
            "image/png": "[encoded data removed]",
            "text/plain": [
              "<Figure size 432x288 with 1 Axes>"
            ]
          },
          "metadata": {
            "tags": [],
            "needs_background": "light"
          }
        }
      ]
    },
    {
      "cell_type": "code",
      "metadata": {
        "colab": {
          "base_uri": "https://localhost:8080/",
          "height": 295
        },
        "id": "BSEF3StZyiGr",
        "outputId": "dcbbfa08-549c-43de-aaec-1aae0f55718b"
      },
      "source": [
        "plt.hist(la_income, color = 'blue', edgecolor = 'black')\n",
        "plt.title('LA Inome Distribution')\n",
        "plt.xlabel('income')\n",
        "plt.ylabel('count of income')\n",
        "\n",
        "la_fit = norm.pdf(la_income, la_mean, la_std)\n",
        "la_skew = skew(la_fit)"
      ],
      "execution_count": 135,
      "outputs": [
        {
          "output_type": "display_data",
          "data": {
            "image/png": "[encoded data removed]",
            "text/plain": [
              "<Figure size 432x288 with 1 Axes>"
            ]
          },
          "metadata": {
            "tags": [],
            "needs_background": "light"
          }
        }
      ]
    },
    {
      "cell_type": "code",
      "metadata": {
        "colab": {
          "base_uri": "https://localhost:8080/"
        },
        "id": "3_vNj2o13kPW",
        "outputId": "b8311b3e-9011-4738-e9aa-d0afcdee1586"
      },
      "source": [
        "print('median')\n",
        "print('Bal',bmore_median)\n",
        "print('LA', la_median)\n",
        "\n",
        "print('\\nmean')\n",
        "print('Bal',bmore_mean)\n",
        "print('LA', la_mean)\n",
        "\n",
        "print('\\nstd dev')\n",
        "print('Bal',bmore_std)\n",
        "print('LA', la_std)\n",
        "\n",
        "print('\\noutlier percentage')\n",
        "print('Bal',bmore_otpct)\n",
        "print('LA', la_otpct)\n",
        "\n",
        "print('\\nskewness')\n",
        "print('Bal',bmore_skew)\n",
        "print('LA', la_skew)"
      ],
      "execution_count": 136,
      "outputs": [
        {
          "output_type": "stream",
          "text": [
            "median\n",
            "Bal 22348.0\n",
            "LA 26183.0\n",
            "\n",
            "mean\n",
            "Bal 23248.803526448362\n",
            "LA 26638.462355212356\n",
            "\n",
            "std dev\n",
            "Bal 4761.916713843649\n",
            "LA 4178.824468632812\n",
            "\n",
            "outlier percentage\n",
            "Bal 0.030226700251889168\n",
            "LA 0.011583011583011582\n",
            "\n",
            "skewness\n",
            "Bal -1.064441656681596\n",
            "LA -0.9605485926173304\n"
          ],
          "name": "stdout"
        }
      ]
    },
    {
      "cell_type": "code",
      "metadata": {
        "id": "STI3gndljp1N"
      },
      "source": [
        "outliers = []\n",
        "\n",
        "def detect_outlier(alist):\n",
        "    \n",
        "    threshold=3\n",
        "    mean_1 = np.mean(alist)\n",
        "    std_1 =np.std(alist)\n",
        "    \n",
        "    \n",
        "    for value in alist:\n",
        "        z_score= (value - mean_1)/std_1 \n",
        "        if np.abs(z_score) > threshold:\n",
        "            outliers.append(value)\n",
        "    return outliers"
      ],
      "execution_count": 137,
      "outputs": []
    }
  ]
}